{
  "nbformat": 4,
  "nbformat_minor": 0,
  "metadata": {
    "colab": {
      "name": "GCD_Cert_05042020.ipynb",
      "provenance": [],
      "collapsed_sections": [],
      "authorship_tag": "ABX9TyPIBeVY08uwKnpT34yzmu6l",
      "include_colab_link": true
    },
    "kernelspec": {
      "name": "python3",
      "display_name": "Python 3"
    }
  },
  "cells": [
    {
      "cell_type": "markdown",
      "metadata": {
        "id": "view-in-github",
        "colab_type": "text"
      },
      "source": [
        "<a href=\"https://colab.research.google.com/github/srujanav67/1000Movies_EDAProject/blob/master/GCD_Cert_05042020.ipynb\" target=\"_parent\"><img src=\"https://colab.research.google.com/assets/colab-badge.svg\" alt=\"Open In Colab\"/></a>"
      ]
    },
    {
      "cell_type": "code",
      "metadata": {
        "id": "qMliJ7t2v0sj",
        "colab_type": "code",
        "colab": {}
      },
      "source": [
        "#Linear Regression - Predict Interest Rate\n",
        "import pandas as pd\n",
        "bank_data = pd.read_csv('https://raw.githubusercontent.com/insaid2018/GCD-Certification-Quiz-Data/master/Bank%20Data/bank_data.csv')"
      ],
      "execution_count": 0,
      "outputs": []
    },
    {
      "cell_type": "code",
      "metadata": {
        "id": "gW279gXP9nNC",
        "colab_type": "code",
        "outputId": "5593ece2-fce5-480c-c7f4-a58d45358ff3",
        "colab": {
          "base_uri": "https://localhost:8080/",
          "height": 121
        }
      },
      "source": [
        "bank_data.columns"
      ],
      "execution_count": 0,
      "outputs": [
        {
          "output_type": "execute_result",
          "data": {
            "text/plain": [
              "Index(['Unnamed: 0', 'Amount.Requested', 'Interest.Rate', 'Loan.Length',\n",
              "       'Loan.Purpose', 'Debt.To.Income.Ratio', 'Monthly.Income', 'FICO.Range',\n",
              "       'Open.CREDIT.Lines', 'Revolving.CREDIT.Balance',\n",
              "       'Inquiries.in.the.Last.6.Months', 'Employment.Length', 'ho_mort',\n",
              "       'ho_rent'],\n",
              "      dtype='object')"
            ]
          },
          "metadata": {
            "tags": []
          },
          "execution_count": 27
        }
      ]
    },
    {
      "cell_type": "code",
      "metadata": {
        "id": "uEgvn3XI9-SI",
        "colab_type": "code",
        "colab": {}
      },
      "source": [
        "bank_data = bank_data.drop('Unnamed: 0',axis = 1)"
      ],
      "execution_count": 0,
      "outputs": []
    },
    {
      "cell_type": "code",
      "metadata": {
        "id": "qjUWfkro-VOR",
        "colab_type": "code",
        "outputId": "f921d764-87b3-4203-9037-2db451d40419",
        "colab": {
          "base_uri": "https://localhost:8080/",
          "height": 121
        }
      },
      "source": [
        "bank_data.columns"
      ],
      "execution_count": 0,
      "outputs": [
        {
          "output_type": "execute_result",
          "data": {
            "text/plain": [
              "Index(['Amount.Requested', 'Interest.Rate', 'Loan.Length', 'Loan.Purpose',\n",
              "       'Debt.To.Income.Ratio', 'Monthly.Income', 'FICO.Range',\n",
              "       'Open.CREDIT.Lines', 'Revolving.CREDIT.Balance',\n",
              "       'Inquiries.in.the.Last.6.Months', 'Employment.Length', 'ho_mort',\n",
              "       'ho_rent'],\n",
              "      dtype='object')"
            ]
          },
          "metadata": {
            "tags": []
          },
          "execution_count": 29
        }
      ]
    },
    {
      "cell_type": "code",
      "metadata": {
        "id": "D21ecjn_-BDp",
        "colab_type": "code",
        "colab": {}
      },
      "source": [
        "bank_data.dropna(inplace= True)"
      ],
      "execution_count": 0,
      "outputs": []
    },
    {
      "cell_type": "code",
      "metadata": {
        "id": "oVqxtwMV_Cog",
        "colab_type": "code",
        "outputId": "c541577e-7e43-452b-8afc-4afb047f2c4d",
        "colab": {
          "base_uri": "https://localhost:8080/",
          "height": 260
        }
      },
      "source": [
        "bank_data.isnull().any()"
      ],
      "execution_count": 0,
      "outputs": [
        {
          "output_type": "execute_result",
          "data": {
            "text/plain": [
              "Amount.Requested                  False\n",
              "Interest.Rate                     False\n",
              "Loan.Length                       False\n",
              "Loan.Purpose                      False\n",
              "Debt.To.Income.Ratio              False\n",
              "Monthly.Income                    False\n",
              "FICO.Range                        False\n",
              "Open.CREDIT.Lines                 False\n",
              "Revolving.CREDIT.Balance          False\n",
              "Inquiries.in.the.Last.6.Months    False\n",
              "Employment.Length                 False\n",
              "ho_mort                           False\n",
              "ho_rent                           False\n",
              "dtype: bool"
            ]
          },
          "metadata": {
            "tags": []
          },
          "execution_count": 31
        }
      ]
    },
    {
      "cell_type": "code",
      "metadata": {
        "id": "e1q1UFUw_MkK",
        "colab_type": "code",
        "outputId": "947f46b0-a890-45d9-8b7b-f46ada099800",
        "colab": {
          "base_uri": "https://localhost:8080/",
          "height": 222
        }
      },
      "source": [
        "bank_data.head()"
      ],
      "execution_count": 0,
      "outputs": [
        {
          "output_type": "execute_result",
          "data": {
            "text/html": [
              "<div>\n",
              "<style scoped>\n",
              "    .dataframe tbody tr th:only-of-type {\n",
              "        vertical-align: middle;\n",
              "    }\n",
              "\n",
              "    .dataframe tbody tr th {\n",
              "        vertical-align: top;\n",
              "    }\n",
              "\n",
              "    .dataframe thead th {\n",
              "        text-align: right;\n",
              "    }\n",
              "</style>\n",
              "<table border=\"1\" class=\"dataframe\">\n",
              "  <thead>\n",
              "    <tr style=\"text-align: right;\">\n",
              "      <th></th>\n",
              "      <th>Amount.Requested</th>\n",
              "      <th>Interest.Rate</th>\n",
              "      <th>Loan.Length</th>\n",
              "      <th>Loan.Purpose</th>\n",
              "      <th>Debt.To.Income.Ratio</th>\n",
              "      <th>Monthly.Income</th>\n",
              "      <th>FICO.Range</th>\n",
              "      <th>Open.CREDIT.Lines</th>\n",
              "      <th>Revolving.CREDIT.Balance</th>\n",
              "      <th>Inquiries.in.the.Last.6.Months</th>\n",
              "      <th>Employment.Length</th>\n",
              "      <th>ho_mort</th>\n",
              "      <th>ho_rent</th>\n",
              "    </tr>\n",
              "  </thead>\n",
              "  <tbody>\n",
              "    <tr>\n",
              "      <th>0</th>\n",
              "      <td>20000.0</td>\n",
              "      <td>8.90</td>\n",
              "      <td>36</td>\n",
              "      <td>4</td>\n",
              "      <td>14.90</td>\n",
              "      <td>6541.67</td>\n",
              "      <td>735-739</td>\n",
              "      <td>14.0</td>\n",
              "      <td>14272.0</td>\n",
              "      <td>2.0</td>\n",
              "      <td>0</td>\n",
              "      <td>1</td>\n",
              "      <td>0</td>\n",
              "    </tr>\n",
              "    <tr>\n",
              "      <th>1</th>\n",
              "      <td>19200.0</td>\n",
              "      <td>12.12</td>\n",
              "      <td>36</td>\n",
              "      <td>4</td>\n",
              "      <td>28.36</td>\n",
              "      <td>4583.33</td>\n",
              "      <td>715-719</td>\n",
              "      <td>12.0</td>\n",
              "      <td>11140.0</td>\n",
              "      <td>1.0</td>\n",
              "      <td>2</td>\n",
              "      <td>1</td>\n",
              "      <td>0</td>\n",
              "    </tr>\n",
              "    <tr>\n",
              "      <th>2</th>\n",
              "      <td>35000.0</td>\n",
              "      <td>21.98</td>\n",
              "      <td>60</td>\n",
              "      <td>4</td>\n",
              "      <td>23.81</td>\n",
              "      <td>11500.00</td>\n",
              "      <td>690-694</td>\n",
              "      <td>14.0</td>\n",
              "      <td>21977.0</td>\n",
              "      <td>1.0</td>\n",
              "      <td>2</td>\n",
              "      <td>1</td>\n",
              "      <td>0</td>\n",
              "    </tr>\n",
              "    <tr>\n",
              "      <th>3</th>\n",
              "      <td>10000.0</td>\n",
              "      <td>9.99</td>\n",
              "      <td>36</td>\n",
              "      <td>4</td>\n",
              "      <td>14.30</td>\n",
              "      <td>3833.33</td>\n",
              "      <td>695-699</td>\n",
              "      <td>10.0</td>\n",
              "      <td>9346.0</td>\n",
              "      <td>0.0</td>\n",
              "      <td>5</td>\n",
              "      <td>1</td>\n",
              "      <td>0</td>\n",
              "    </tr>\n",
              "    <tr>\n",
              "      <th>4</th>\n",
              "      <td>12000.0</td>\n",
              "      <td>11.71</td>\n",
              "      <td>36</td>\n",
              "      <td>3</td>\n",
              "      <td>18.78</td>\n",
              "      <td>3195.00</td>\n",
              "      <td>695-699</td>\n",
              "      <td>11.0</td>\n",
              "      <td>14469.0</td>\n",
              "      <td>0.0</td>\n",
              "      <td>9</td>\n",
              "      <td>0</td>\n",
              "      <td>1</td>\n",
              "    </tr>\n",
              "  </tbody>\n",
              "</table>\n",
              "</div>"
            ],
            "text/plain": [
              "   Amount.Requested  Interest.Rate  ...  ho_mort  ho_rent\n",
              "0           20000.0           8.90  ...        1        0\n",
              "1           19200.0          12.12  ...        1        0\n",
              "2           35000.0          21.98  ...        1        0\n",
              "3           10000.0           9.99  ...        1        0\n",
              "4           12000.0          11.71  ...        0        1\n",
              "\n",
              "[5 rows x 13 columns]"
            ]
          },
          "metadata": {
            "tags": []
          },
          "execution_count": 32
        }
      ]
    },
    {
      "cell_type": "code",
      "metadata": {
        "id": "YV-6Wgk0BUya",
        "colab_type": "code",
        "outputId": "399190a0-52d5-4760-ca77-b2c86869b73a",
        "colab": {
          "base_uri": "https://localhost:8080/",
          "height": 139
        }
      },
      "source": [
        "bank_data['FICO.Range'].unique()"
      ],
      "execution_count": 0,
      "outputs": [
        {
          "output_type": "execute_result",
          "data": {
            "text/plain": [
              "array(['735-739', '715-719', '690-694', '695-699', '670-674', '720-724',\n",
              "       '705-709', '685-689', '665-669', '725-729', '730-734', '740-744',\n",
              "       '760-764', '675-679', '765-769', '780-784', '830-834', '660-664',\n",
              "       '710-714', '785-789', '750-754', '700-704', '680-684', '755-759',\n",
              "       '790-794', '810-814', '775-779', '815-819', '745-749', '800-804',\n",
              "       '805-809', '655-659', '770-774', '795-799', '640-644', '645-649',\n",
              "       '820-824', '650-654'], dtype=object)"
            ]
          },
          "metadata": {
            "tags": []
          },
          "execution_count": 33
        }
      ]
    },
    {
      "cell_type": "code",
      "metadata": {
        "id": "Kn7b4c_v_Woi",
        "colab_type": "code",
        "colab": {}
      },
      "source": [
        "from sklearn import preprocessing\n",
        "label_encoder = preprocessing.LabelEncoder()\n",
        "label_encoder.fit(bank_data['FICO.Range'])\n",
        "bank_data['FICO.Range'] = label_encoder.transform(bank_data['FICO.Range'])"
      ],
      "execution_count": 0,
      "outputs": []
    },
    {
      "cell_type": "code",
      "metadata": {
        "id": "icoraZ4dToe8",
        "colab_type": "code",
        "outputId": "2813e1a6-3d71-40fa-9ee6-79224703f235",
        "colab": {
          "base_uri": "https://localhost:8080/",
          "height": 314
        }
      },
      "source": [
        "bank_data.describe()"
      ],
      "execution_count": 0,
      "outputs": [
        {
          "output_type": "execute_result",
          "data": {
            "text/html": [
              "<div>\n",
              "<style scoped>\n",
              "    .dataframe tbody tr th:only-of-type {\n",
              "        vertical-align: middle;\n",
              "    }\n",
              "\n",
              "    .dataframe tbody tr th {\n",
              "        vertical-align: top;\n",
              "    }\n",
              "\n",
              "    .dataframe thead th {\n",
              "        text-align: right;\n",
              "    }\n",
              "</style>\n",
              "<table border=\"1\" class=\"dataframe\">\n",
              "  <thead>\n",
              "    <tr style=\"text-align: right;\">\n",
              "      <th></th>\n",
              "      <th>Amount.Requested</th>\n",
              "      <th>Interest.Rate</th>\n",
              "      <th>Loan.Length</th>\n",
              "      <th>Loan.Purpose</th>\n",
              "      <th>Debt.To.Income.Ratio</th>\n",
              "      <th>Monthly.Income</th>\n",
              "      <th>FICO.Range</th>\n",
              "      <th>Open.CREDIT.Lines</th>\n",
              "      <th>Revolving.CREDIT.Balance</th>\n",
              "      <th>Inquiries.in.the.Last.6.Months</th>\n",
              "      <th>Employment.Length</th>\n",
              "      <th>ho_mort</th>\n",
              "      <th>ho_rent</th>\n",
              "    </tr>\n",
              "  </thead>\n",
              "  <tbody>\n",
              "    <tr>\n",
              "      <th>count</th>\n",
              "      <td>2484.000000</td>\n",
              "      <td>2484.000000</td>\n",
              "      <td>2484.000000</td>\n",
              "      <td>2484.000000</td>\n",
              "      <td>2484.000000</td>\n",
              "      <td>2484.000000</td>\n",
              "      <td>2484.000000</td>\n",
              "      <td>2484.000000</td>\n",
              "      <td>2484.000000</td>\n",
              "      <td>2484.000000</td>\n",
              "      <td>2484.000000</td>\n",
              "      <td>2484.000000</td>\n",
              "      <td>2484.000000</td>\n",
              "    </tr>\n",
              "    <tr>\n",
              "      <th>mean</th>\n",
              "      <td>12434.802738</td>\n",
              "      <td>13.074167</td>\n",
              "      <td>41.285024</td>\n",
              "      <td>3.304348</td>\n",
              "      <td>15.390369</td>\n",
              "      <td>5687.966868</td>\n",
              "      <td>13.158213</td>\n",
              "      <td>10.080918</td>\n",
              "      <td>15263.150564</td>\n",
              "      <td>0.907407</td>\n",
              "      <td>5.217391</td>\n",
              "      <td>0.458937</td>\n",
              "      <td>0.458937</td>\n",
              "    </tr>\n",
              "    <tr>\n",
              "      <th>std</th>\n",
              "      <td>7797.266805</td>\n",
              "      <td>4.172580</td>\n",
              "      <td>9.947308</td>\n",
              "      <td>0.904616</td>\n",
              "      <td>7.486866</td>\n",
              "      <td>3966.437908</td>\n",
              "      <td>6.982252</td>\n",
              "      <td>4.509565</td>\n",
              "      <td>18330.338467</td>\n",
              "      <td>1.232645</td>\n",
              "      <td>3.652253</td>\n",
              "      <td>0.498411</td>\n",
              "      <td>0.498411</td>\n",
              "    </tr>\n",
              "    <tr>\n",
              "      <th>min</th>\n",
              "      <td>1000.000000</td>\n",
              "      <td>5.420000</td>\n",
              "      <td>36.000000</td>\n",
              "      <td>0.000000</td>\n",
              "      <td>0.000000</td>\n",
              "      <td>588.500000</td>\n",
              "      <td>0.000000</td>\n",
              "      <td>2.000000</td>\n",
              "      <td>0.000000</td>\n",
              "      <td>0.000000</td>\n",
              "      <td>0.000000</td>\n",
              "      <td>0.000000</td>\n",
              "      <td>0.000000</td>\n",
              "    </tr>\n",
              "    <tr>\n",
              "      <th>25%</th>\n",
              "      <td>6000.000000</td>\n",
              "      <td>10.160000</td>\n",
              "      <td>36.000000</td>\n",
              "      <td>3.000000</td>\n",
              "      <td>9.750000</td>\n",
              "      <td>3500.000000</td>\n",
              "      <td>8.000000</td>\n",
              "      <td>7.000000</td>\n",
              "      <td>5605.250000</td>\n",
              "      <td>0.000000</td>\n",
              "      <td>2.000000</td>\n",
              "      <td>0.000000</td>\n",
              "      <td>0.000000</td>\n",
              "    </tr>\n",
              "    <tr>\n",
              "      <th>50%</th>\n",
              "      <td>10000.000000</td>\n",
              "      <td>13.110000</td>\n",
              "      <td>36.000000</td>\n",
              "      <td>4.000000</td>\n",
              "      <td>15.320000</td>\n",
              "      <td>5000.000000</td>\n",
              "      <td>12.000000</td>\n",
              "      <td>9.000000</td>\n",
              "      <td>10979.500000</td>\n",
              "      <td>0.000000</td>\n",
              "      <td>5.000000</td>\n",
              "      <td>0.000000</td>\n",
              "      <td>0.000000</td>\n",
              "    </tr>\n",
              "    <tr>\n",
              "      <th>75%</th>\n",
              "      <td>17000.000000</td>\n",
              "      <td>15.800000</td>\n",
              "      <td>36.000000</td>\n",
              "      <td>4.000000</td>\n",
              "      <td>20.692500</td>\n",
              "      <td>6762.500000</td>\n",
              "      <td>17.000000</td>\n",
              "      <td>13.000000</td>\n",
              "      <td>18909.750000</td>\n",
              "      <td>1.000000</td>\n",
              "      <td>10.000000</td>\n",
              "      <td>1.000000</td>\n",
              "      <td>1.000000</td>\n",
              "    </tr>\n",
              "    <tr>\n",
              "      <th>max</th>\n",
              "      <td>35000.000000</td>\n",
              "      <td>24.890000</td>\n",
              "      <td>60.000000</td>\n",
              "      <td>4.000000</td>\n",
              "      <td>34.910000</td>\n",
              "      <td>102750.000000</td>\n",
              "      <td>37.000000</td>\n",
              "      <td>38.000000</td>\n",
              "      <td>270800.000000</td>\n",
              "      <td>9.000000</td>\n",
              "      <td>10.000000</td>\n",
              "      <td>1.000000</td>\n",
              "      <td>1.000000</td>\n",
              "    </tr>\n",
              "  </tbody>\n",
              "</table>\n",
              "</div>"
            ],
            "text/plain": [
              "       Amount.Requested  Interest.Rate  ...      ho_mort      ho_rent\n",
              "count       2484.000000    2484.000000  ...  2484.000000  2484.000000\n",
              "mean       12434.802738      13.074167  ...     0.458937     0.458937\n",
              "std         7797.266805       4.172580  ...     0.498411     0.498411\n",
              "min         1000.000000       5.420000  ...     0.000000     0.000000\n",
              "25%         6000.000000      10.160000  ...     0.000000     0.000000\n",
              "50%        10000.000000      13.110000  ...     0.000000     0.000000\n",
              "75%        17000.000000      15.800000  ...     1.000000     1.000000\n",
              "max        35000.000000      24.890000  ...     1.000000     1.000000\n",
              "\n",
              "[8 rows x 13 columns]"
            ]
          },
          "metadata": {
            "tags": []
          },
          "execution_count": 35
        }
      ]
    },
    {
      "cell_type": "code",
      "metadata": {
        "id": "sJGpc_mxRVJ7",
        "colab_type": "code",
        "outputId": "5ede603b-42ad-4a6f-cfc1-75953c40db74",
        "colab": {
          "base_uri": "https://localhost:8080/",
          "height": 156
        }
      },
      "source": [
        "#Remove extreme outliers - < Q1+1.5*iqr and > Q3+1.5*iqr\n",
        "#['Amount.Requested', 'Interest.Rate', 'Loan.Length', 'Inquiries.in.the.Last.6.Months', 'Revolving.CREDIT.Balance', 'Open.CREDIT.Lines', 'Monthly.Income']\n",
        "\n",
        "Q1 = bank_data.quantile(0.25)\n",
        "Q3 = bank_data.quantile(0.75)\n",
        "IQR = Q3 - Q1\n",
        "\n",
        "bank_data = bank_data[~((bank_data < (Q1 - 1.5 * IQR)) |(bank_data > (Q3 + 1.5 * IQR))).any(axis=1)]\n"
      ],
      "execution_count": 0,
      "outputs": [
        {
          "output_type": "stream",
          "text": [
            "   Amount.Requested  Interest.Rate  ...  ho_mort  ho_rent\n",
            "0           20000.0           8.90  ...        1        0\n",
            "1           19200.0          12.12  ...        1        0\n",
            "3           10000.0           9.99  ...        1        0\n",
            "4           12000.0          11.71  ...        0        1\n",
            "5            6000.0          15.31  ...        0        0\n",
            "\n",
            "[5 rows x 13 columns]\n"
          ],
          "name": "stdout"
        }
      ]
    },
    {
      "cell_type": "code",
      "metadata": {
        "id": "t4VcnymcmQJr",
        "colab_type": "code",
        "outputId": "8d2b06a9-5c73-496c-da95-d13d63de483e",
        "colab": {
          "base_uri": "https://localhost:8080/",
          "height": 314
        }
      },
      "source": [
        "bank_data.describe()"
      ],
      "execution_count": 0,
      "outputs": [
        {
          "output_type": "execute_result",
          "data": {
            "text/html": [
              "<div>\n",
              "<style scoped>\n",
              "    .dataframe tbody tr th:only-of-type {\n",
              "        vertical-align: middle;\n",
              "    }\n",
              "\n",
              "    .dataframe tbody tr th {\n",
              "        vertical-align: top;\n",
              "    }\n",
              "\n",
              "    .dataframe thead th {\n",
              "        text-align: right;\n",
              "    }\n",
              "</style>\n",
              "<table border=\"1\" class=\"dataframe\">\n",
              "  <thead>\n",
              "    <tr style=\"text-align: right;\">\n",
              "      <th></th>\n",
              "      <th>Amount.Requested</th>\n",
              "      <th>Interest.Rate</th>\n",
              "      <th>Loan.Length</th>\n",
              "      <th>Loan.Purpose</th>\n",
              "      <th>Debt.To.Income.Ratio</th>\n",
              "      <th>Monthly.Income</th>\n",
              "      <th>FICO.Range</th>\n",
              "      <th>Open.CREDIT.Lines</th>\n",
              "      <th>Revolving.CREDIT.Balance</th>\n",
              "      <th>Inquiries.in.the.Last.6.Months</th>\n",
              "      <th>Employment.Length</th>\n",
              "      <th>ho_mort</th>\n",
              "      <th>ho_rent</th>\n",
              "    </tr>\n",
              "  </thead>\n",
              "  <tbody>\n",
              "    <tr>\n",
              "      <th>count</th>\n",
              "      <td>1449.000000</td>\n",
              "      <td>1449.000000</td>\n",
              "      <td>1449.0</td>\n",
              "      <td>1449.000000</td>\n",
              "      <td>1449.000000</td>\n",
              "      <td>1449.000000</td>\n",
              "      <td>1449.000000</td>\n",
              "      <td>1449.000000</td>\n",
              "      <td>1449.000000</td>\n",
              "      <td>1449.000000</td>\n",
              "      <td>1449.000000</td>\n",
              "      <td>1449.000000</td>\n",
              "      <td>1449.000000</td>\n",
              "    </tr>\n",
              "    <tr>\n",
              "      <th>mean</th>\n",
              "      <td>10416.080055</td>\n",
              "      <td>12.281311</td>\n",
              "      <td>36.0</td>\n",
              "      <td>3.488613</td>\n",
              "      <td>15.702772</td>\n",
              "      <td>4788.255783</td>\n",
              "      <td>12.319531</td>\n",
              "      <td>9.644582</td>\n",
              "      <td>11799.672878</td>\n",
              "      <td>0.578330</td>\n",
              "      <td>4.936508</td>\n",
              "      <td>0.394755</td>\n",
              "      <td>0.517598</td>\n",
              "    </tr>\n",
              "    <tr>\n",
              "      <th>std</th>\n",
              "      <td>5968.205517</td>\n",
              "      <td>3.622271</td>\n",
              "      <td>0.0</td>\n",
              "      <td>0.654385</td>\n",
              "      <td>7.435084</td>\n",
              "      <td>2099.105907</td>\n",
              "      <td>6.193087</td>\n",
              "      <td>4.048221</td>\n",
              "      <td>8142.141492</td>\n",
              "      <td>0.729868</td>\n",
              "      <td>3.616659</td>\n",
              "      <td>0.488967</td>\n",
              "      <td>0.499863</td>\n",
              "    </tr>\n",
              "    <tr>\n",
              "      <th>min</th>\n",
              "      <td>1000.000000</td>\n",
              "      <td>5.420000</td>\n",
              "      <td>36.0</td>\n",
              "      <td>2.000000</td>\n",
              "      <td>0.000000</td>\n",
              "      <td>833.330000</td>\n",
              "      <td>0.000000</td>\n",
              "      <td>2.000000</td>\n",
              "      <td>0.000000</td>\n",
              "      <td>0.000000</td>\n",
              "      <td>0.000000</td>\n",
              "      <td>0.000000</td>\n",
              "      <td>0.000000</td>\n",
              "    </tr>\n",
              "    <tr>\n",
              "      <th>25%</th>\n",
              "      <td>6000.000000</td>\n",
              "      <td>9.630000</td>\n",
              "      <td>36.0</td>\n",
              "      <td>3.000000</td>\n",
              "      <td>9.930000</td>\n",
              "      <td>3200.000000</td>\n",
              "      <td>7.000000</td>\n",
              "      <td>7.000000</td>\n",
              "      <td>5747.000000</td>\n",
              "      <td>0.000000</td>\n",
              "      <td>2.000000</td>\n",
              "      <td>0.000000</td>\n",
              "      <td>0.000000</td>\n",
              "    </tr>\n",
              "    <tr>\n",
              "      <th>50%</th>\n",
              "      <td>10000.000000</td>\n",
              "      <td>12.120000</td>\n",
              "      <td>36.0</td>\n",
              "      <td>4.000000</td>\n",
              "      <td>15.550000</td>\n",
              "      <td>4416.670000</td>\n",
              "      <td>11.000000</td>\n",
              "      <td>9.000000</td>\n",
              "      <td>10128.000000</td>\n",
              "      <td>0.000000</td>\n",
              "      <td>4.000000</td>\n",
              "      <td>0.000000</td>\n",
              "      <td>1.000000</td>\n",
              "    </tr>\n",
              "    <tr>\n",
              "      <th>75%</th>\n",
              "      <td>14000.000000</td>\n",
              "      <td>14.590000</td>\n",
              "      <td>36.0</td>\n",
              "      <td>4.000000</td>\n",
              "      <td>20.930000</td>\n",
              "      <td>6000.000000</td>\n",
              "      <td>16.000000</td>\n",
              "      <td>12.000000</td>\n",
              "      <td>15962.000000</td>\n",
              "      <td>1.000000</td>\n",
              "      <td>9.000000</td>\n",
              "      <td>1.000000</td>\n",
              "      <td>1.000000</td>\n",
              "    </tr>\n",
              "    <tr>\n",
              "      <th>max</th>\n",
              "      <td>31075.000000</td>\n",
              "      <td>22.950000</td>\n",
              "      <td>36.0</td>\n",
              "      <td>4.000000</td>\n",
              "      <td>34.910000</td>\n",
              "      <td>11500.000000</td>\n",
              "      <td>30.000000</td>\n",
              "      <td>22.000000</td>\n",
              "      <td>38342.000000</td>\n",
              "      <td>2.000000</td>\n",
              "      <td>10.000000</td>\n",
              "      <td>1.000000</td>\n",
              "      <td>1.000000</td>\n",
              "    </tr>\n",
              "  </tbody>\n",
              "</table>\n",
              "</div>"
            ],
            "text/plain": [
              "       Amount.Requested  Interest.Rate  ...      ho_mort      ho_rent\n",
              "count       1449.000000    1449.000000  ...  1449.000000  1449.000000\n",
              "mean       10416.080055      12.281311  ...     0.394755     0.517598\n",
              "std         5968.205517       3.622271  ...     0.488967     0.499863\n",
              "min         1000.000000       5.420000  ...     0.000000     0.000000\n",
              "25%         6000.000000       9.630000  ...     0.000000     0.000000\n",
              "50%        10000.000000      12.120000  ...     0.000000     1.000000\n",
              "75%        14000.000000      14.590000  ...     1.000000     1.000000\n",
              "max        31075.000000      22.950000  ...     1.000000     1.000000\n",
              "\n",
              "[8 rows x 13 columns]"
            ]
          },
          "metadata": {
            "tags": []
          },
          "execution_count": 37
        }
      ]
    },
    {
      "cell_type": "code",
      "metadata": {
        "id": "2UiG2_DBIcFl",
        "colab_type": "code",
        "outputId": "ef2fecb5-54b1-4b80-b938-347efb13fb65",
        "colab": {
          "base_uri": "https://localhost:8080/",
          "height": 222
        }
      },
      "source": [
        "bank_data.head()"
      ],
      "execution_count": 0,
      "outputs": [
        {
          "output_type": "execute_result",
          "data": {
            "text/html": [
              "<div>\n",
              "<style scoped>\n",
              "    .dataframe tbody tr th:only-of-type {\n",
              "        vertical-align: middle;\n",
              "    }\n",
              "\n",
              "    .dataframe tbody tr th {\n",
              "        vertical-align: top;\n",
              "    }\n",
              "\n",
              "    .dataframe thead th {\n",
              "        text-align: right;\n",
              "    }\n",
              "</style>\n",
              "<table border=\"1\" class=\"dataframe\">\n",
              "  <thead>\n",
              "    <tr style=\"text-align: right;\">\n",
              "      <th></th>\n",
              "      <th>Amount.Requested</th>\n",
              "      <th>Interest.Rate</th>\n",
              "      <th>Loan.Length</th>\n",
              "      <th>Loan.Purpose</th>\n",
              "      <th>Debt.To.Income.Ratio</th>\n",
              "      <th>Monthly.Income</th>\n",
              "      <th>FICO.Range</th>\n",
              "      <th>Open.CREDIT.Lines</th>\n",
              "      <th>Revolving.CREDIT.Balance</th>\n",
              "      <th>Inquiries.in.the.Last.6.Months</th>\n",
              "      <th>Employment.Length</th>\n",
              "      <th>ho_mort</th>\n",
              "      <th>ho_rent</th>\n",
              "    </tr>\n",
              "  </thead>\n",
              "  <tbody>\n",
              "    <tr>\n",
              "      <th>0</th>\n",
              "      <td>20000.0</td>\n",
              "      <td>8.90</td>\n",
              "      <td>36</td>\n",
              "      <td>4</td>\n",
              "      <td>14.90</td>\n",
              "      <td>6541.67</td>\n",
              "      <td>19</td>\n",
              "      <td>14.0</td>\n",
              "      <td>14272.0</td>\n",
              "      <td>2.0</td>\n",
              "      <td>0</td>\n",
              "      <td>1</td>\n",
              "      <td>0</td>\n",
              "    </tr>\n",
              "    <tr>\n",
              "      <th>1</th>\n",
              "      <td>19200.0</td>\n",
              "      <td>12.12</td>\n",
              "      <td>36</td>\n",
              "      <td>4</td>\n",
              "      <td>28.36</td>\n",
              "      <td>4583.33</td>\n",
              "      <td>15</td>\n",
              "      <td>12.0</td>\n",
              "      <td>11140.0</td>\n",
              "      <td>1.0</td>\n",
              "      <td>2</td>\n",
              "      <td>1</td>\n",
              "      <td>0</td>\n",
              "    </tr>\n",
              "    <tr>\n",
              "      <th>2</th>\n",
              "      <td>35000.0</td>\n",
              "      <td>21.98</td>\n",
              "      <td>60</td>\n",
              "      <td>4</td>\n",
              "      <td>23.81</td>\n",
              "      <td>11500.00</td>\n",
              "      <td>10</td>\n",
              "      <td>14.0</td>\n",
              "      <td>21977.0</td>\n",
              "      <td>1.0</td>\n",
              "      <td>2</td>\n",
              "      <td>1</td>\n",
              "      <td>0</td>\n",
              "    </tr>\n",
              "    <tr>\n",
              "      <th>3</th>\n",
              "      <td>10000.0</td>\n",
              "      <td>9.99</td>\n",
              "      <td>36</td>\n",
              "      <td>4</td>\n",
              "      <td>14.30</td>\n",
              "      <td>3833.33</td>\n",
              "      <td>11</td>\n",
              "      <td>10.0</td>\n",
              "      <td>9346.0</td>\n",
              "      <td>0.0</td>\n",
              "      <td>5</td>\n",
              "      <td>1</td>\n",
              "      <td>0</td>\n",
              "    </tr>\n",
              "    <tr>\n",
              "      <th>4</th>\n",
              "      <td>12000.0</td>\n",
              "      <td>11.71</td>\n",
              "      <td>36</td>\n",
              "      <td>3</td>\n",
              "      <td>18.78</td>\n",
              "      <td>3195.00</td>\n",
              "      <td>11</td>\n",
              "      <td>11.0</td>\n",
              "      <td>14469.0</td>\n",
              "      <td>0.0</td>\n",
              "      <td>9</td>\n",
              "      <td>0</td>\n",
              "      <td>1</td>\n",
              "    </tr>\n",
              "  </tbody>\n",
              "</table>\n",
              "</div>"
            ],
            "text/plain": [
              "   Amount.Requested  Interest.Rate  ...  ho_mort  ho_rent\n",
              "0           20000.0           8.90  ...        1        0\n",
              "1           19200.0          12.12  ...        1        0\n",
              "2           35000.0          21.98  ...        1        0\n",
              "3           10000.0           9.99  ...        1        0\n",
              "4           12000.0          11.71  ...        0        1\n",
              "\n",
              "[5 rows x 13 columns]"
            ]
          },
          "metadata": {
            "tags": []
          },
          "execution_count": 15
        }
      ]
    },
    {
      "cell_type": "code",
      "metadata": {
        "id": "BvULTdJrB3ms",
        "colab_type": "code",
        "colab": {}
      },
      "source": [
        "X =  bank_data.loc[:, bank_data.columns != 'Interest.Rate']\n",
        "y =  bank_data['Interest.Rate']\n",
        "from sklearn.model_selection import train_test_split\n",
        "X_train, X_test, y_train,y_test = train_test_split(X,y, test_size=0.20, random_state=2)"
      ],
      "execution_count": 0,
      "outputs": []
    },
    {
      "cell_type": "code",
      "metadata": {
        "id": "tbjlLz-qC-QZ",
        "colab_type": "code",
        "outputId": "9968fdc3-9779-4162-bd8e-56da1dfce716",
        "colab": {
          "base_uri": "https://localhost:8080/",
          "height": 104
        }
      },
      "source": [
        "from sklearn.linear_model import LinearRegression\n",
        "from sklearn.metrics import mean_squared_error, r2_score\n",
        "import numpy as np\n",
        "linreg = LinearRegression()\n",
        "linreg.fit(X_train, y_train)\n",
        "y_preds_train = linreg.predict(X_train)\n",
        "y_preds = linreg.predict(X_test)\n",
        "\n",
        "RMSE1 = np.sqrt(mean_squared_error(y_train, y_preds_train))\n",
        "RMSETest = np.sqrt(mean_squared_error(y_test, y_preds))\n",
        "\n",
        "print(RMSE1)\n",
        "print(RMSETest)\n",
        "print(linreg.intercept_)\n",
        "print(linreg.rank_)\n",
        "print(r2_score(y_test,y_preds))"
      ],
      "execution_count": 0,
      "outputs": [
        {
          "output_type": "stream",
          "text": [
            "1.9104519196026526\n",
            "1.7934843465956394\n",
            "17.660523143326937\n",
            "11\n",
            "0.7679633044081163\n"
          ],
          "name": "stdout"
        }
      ]
    }
  ]
}